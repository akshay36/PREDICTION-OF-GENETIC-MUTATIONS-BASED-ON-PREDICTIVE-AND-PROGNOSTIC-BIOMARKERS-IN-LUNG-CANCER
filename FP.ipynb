{
 "cells": [
  {
   "cell_type": "code",
   "execution_count": 7,
   "id": "3390e076",
   "metadata": {},
   "outputs": [
    {
     "name": "stdout",
     "output_type": "stream",
     "text": [
      "Requirement already satisfied: gradio in c:\\users\\akshay\\anaconda3\\lib\\site-packages (3.27.0)\n",
      "Requirement already satisfied: pydantic in c:\\users\\akshay\\anaconda3\\lib\\site-packages (from gradio) (1.10.7)\n",
      "Requirement already satisfied: typing-extensions in c:\\users\\akshay\\anaconda3\\lib\\site-packages (from gradio) (4.5.0)\n",
      "Requirement already satisfied: altair>=4.2.0 in c:\\users\\akshay\\anaconda3\\lib\\site-packages (from gradio) (4.2.2)\n",
      "Requirement already satisfied: aiohttp in c:\\users\\akshay\\anaconda3\\lib\\site-packages (from gradio) (3.8.4)\n",
      "Requirement already satisfied: httpx in c:\\users\\akshay\\anaconda3\\lib\\site-packages (from gradio) (0.24.0)\n",
      "Requirement already satisfied: websockets>=10.0 in c:\\users\\akshay\\anaconda3\\lib\\site-packages (from gradio) (11.0.2)\n",
      "Requirement already satisfied: semantic-version in c:\\users\\akshay\\anaconda3\\lib\\site-packages (from gradio) (2.10.0)\n",
      "Requirement already satisfied: fastapi in c:\\users\\akshay\\anaconda3\\lib\\site-packages (from gradio) (0.95.1)\n",
      "Requirement already satisfied: pydub in c:\\users\\akshay\\anaconda3\\lib\\site-packages (from gradio) (0.25.1)\n",
      "Requirement already satisfied: matplotlib in c:\\users\\akshay\\anaconda3\\lib\\site-packages (from gradio) (3.3.4)\n",
      "Requirement already satisfied: markdown-it-py[linkify]>=2.0.0 in c:\\users\\akshay\\anaconda3\\lib\\site-packages (from gradio) (2.2.0)\n",
      "Requirement already satisfied: markupsafe in c:\\users\\akshay\\anaconda3\\lib\\site-packages (from gradio) (2.0.1)\n",
      "Requirement already satisfied: uvicorn in c:\\users\\akshay\\anaconda3\\lib\\site-packages (from gradio) (0.21.1)\n",
      "Requirement already satisfied: orjson in c:\\users\\akshay\\anaconda3\\lib\\site-packages (from gradio) (3.8.10)\n",
      "Requirement already satisfied: pandas in c:\\users\\akshay\\anaconda3\\lib\\site-packages (from gradio) (1.2.4)\n",
      "Requirement already satisfied: mdit-py-plugins<=0.3.3 in c:\\users\\akshay\\anaconda3\\lib\\site-packages (from gradio) (0.3.3)\n",
      "Requirement already satisfied: ffmpy in c:\\users\\akshay\\anaconda3\\lib\\site-packages (from gradio) (0.3.0)\n",
      "Requirement already satisfied: jinja2 in c:\\users\\akshay\\anaconda3\\lib\\site-packages (from gradio) (2.11.3)\n",
      "Requirement already satisfied: pillow in c:\\users\\akshay\\anaconda3\\lib\\site-packages (from gradio) (8.2.0)\n",
      "Requirement already satisfied: gradio-client>=0.1.3 in c:\\users\\akshay\\anaconda3\\lib\\site-packages (from gradio) (0.1.3)\n",
      "Requirement already satisfied: huggingface-hub>=0.13.0 in c:\\users\\akshay\\anaconda3\\lib\\site-packages (from gradio) (0.13.4)\n",
      "Requirement already satisfied: python-multipart in c:\\users\\akshay\\anaconda3\\lib\\site-packages (from gradio) (0.0.6)\n",
      "Requirement already satisfied: aiofiles in c:\\users\\akshay\\anaconda3\\lib\\site-packages (from gradio) (23.1.0)\n",
      "Requirement already satisfied: pyyaml in c:\\users\\akshay\\anaconda3\\lib\\site-packages (from gradio) (5.4.1)\n",
      "Requirement already satisfied: requests in c:\\users\\akshay\\anaconda3\\lib\\site-packages (from gradio) (2.28.2)\n",
      "Requirement already satisfied: numpy in c:\\users\\akshay\\anaconda3\\lib\\site-packages (from gradio) (1.21.0)\n",
      "Requirement already satisfied: toolz in c:\\users\\akshay\\anaconda3\\lib\\site-packages (from altair>=4.2.0->gradio) (0.11.1)\n",
      "Note: you may need to restart the kernel to use updated packages.Requirement already satisfied: entrypoints in c:\\users\\akshay\\anaconda3\\lib\\site-packages (from altair>=4.2.0->gradio) (0.3)\n",
      "Requirement already satisfied: jsonschema>=3.0 in c:\\users\\akshay\\anaconda3\\lib\\site-packages (from altair>=4.2.0->gradio) (3.2.0)\n",
      "Requirement already satisfied: packaging in c:\\users\\akshay\\anaconda3\\lib\\site-packages (from gradio-client>=0.1.3->gradio) (23.0)\n"
     ]
    },
    {
     "name": "stderr",
     "output_type": "stream",
     "text": [
      "\n",
      "[notice] A new release of pip is available: 23.0.1 -> 23.1\n",
      "[notice] To update, run: python.exe -m pip install --upgrade pip\n"
     ]
    },
    {
     "name": "stdout",
     "output_type": "stream",
     "text": [
      "\n",
      "Requirement already satisfied: fsspec in c:\\users\\akshay\\anaconda3\\lib\\site-packages (from gradio-client>=0.1.3->gradio) (0.9.0)\n",
      "Requirement already satisfied: filelock in c:\\users\\akshay\\anaconda3\\lib\\site-packages (from huggingface-hub>=0.13.0->gradio) (3.0.12)\n",
      "Requirement already satisfied: tqdm>=4.42.1 in c:\\users\\akshay\\anaconda3\\lib\\site-packages (from huggingface-hub>=0.13.0->gradio) (4.59.0)\n",
      "Requirement already satisfied: mdurl~=0.1 in c:\\users\\akshay\\anaconda3\\lib\\site-packages (from markdown-it-py[linkify]>=2.0.0->gradio) (0.1.2)\n",
      "Requirement already satisfied: linkify-it-py<3,>=1 in c:\\users\\akshay\\anaconda3\\lib\\site-packages (from markdown-it-py[linkify]>=2.0.0->gradio) (2.0.0)\n",
      "Requirement already satisfied: pytz>=2017.3 in c:\\users\\akshay\\anaconda3\\lib\\site-packages (from pandas->gradio) (2021.1)\n",
      "Requirement already satisfied: python-dateutil>=2.7.3 in c:\\users\\akshay\\anaconda3\\lib\\site-packages (from pandas->gradio) (2.8.1)\n",
      "Requirement already satisfied: yarl<2.0,>=1.0 in c:\\users\\akshay\\anaconda3\\lib\\site-packages (from aiohttp->gradio) (1.8.2)\n",
      "Requirement already satisfied: frozenlist>=1.1.1 in c:\\users\\akshay\\anaconda3\\lib\\site-packages (from aiohttp->gradio) (1.3.3)\n",
      "Requirement already satisfied: charset-normalizer<4.0,>=2.0 in c:\\users\\akshay\\anaconda3\\lib\\site-packages (from aiohttp->gradio) (3.1.0)\n",
      "Requirement already satisfied: multidict<7.0,>=4.5 in c:\\users\\akshay\\anaconda3\\lib\\site-packages (from aiohttp->gradio) (6.0.4)\n",
      "Requirement already satisfied: aiosignal>=1.1.2 in c:\\users\\akshay\\anaconda3\\lib\\site-packages (from aiohttp->gradio) (1.3.1)\n",
      "Requirement already satisfied: attrs>=17.3.0 in c:\\users\\akshay\\anaconda3\\lib\\site-packages (from aiohttp->gradio) (20.3.0)\n",
      "Requirement already satisfied: async-timeout<5.0,>=4.0.0a3 in c:\\users\\akshay\\anaconda3\\lib\\site-packages (from aiohttp->gradio) (4.0.2)\n",
      "Requirement already satisfied: starlette<0.27.0,>=0.26.1 in c:\\users\\akshay\\anaconda3\\lib\\site-packages (from fastapi->gradio) (0.26.1)\n",
      "Requirement already satisfied: certifi in c:\\users\\akshay\\anaconda3\\lib\\site-packages (from httpx->gradio) (2022.12.7)\n",
      "Requirement already satisfied: idna in c:\\users\\akshay\\anaconda3\\lib\\site-packages (from httpx->gradio) (3.4)\n",
      "Requirement already satisfied: httpcore<0.18.0,>=0.15.0 in c:\\users\\akshay\\anaconda3\\lib\\site-packages (from httpx->gradio) (0.17.0)\n",
      "Requirement already satisfied: sniffio in c:\\users\\akshay\\anaconda3\\lib\\site-packages (from httpx->gradio) (1.2.0)\n",
      "Requirement already satisfied: kiwisolver>=1.0.1 in c:\\users\\akshay\\anaconda3\\lib\\site-packages (from matplotlib->gradio) (1.3.1)\n",
      "Requirement already satisfied: cycler>=0.10 in c:\\users\\akshay\\anaconda3\\lib\\site-packages (from matplotlib->gradio) (0.10.0)\n",
      "Requirement already satisfied: pyparsing!=2.0.4,!=2.1.2,!=2.1.6,>=2.0.3 in c:\\users\\akshay\\anaconda3\\lib\\site-packages (from matplotlib->gradio) (2.4.7)\n",
      "Requirement already satisfied: urllib3<1.27,>=1.21.1 in c:\\users\\akshay\\anaconda3\\lib\\site-packages (from requests->gradio) (1.26.15)\n",
      "Requirement already satisfied: click>=7.0 in c:\\users\\akshay\\anaconda3\\lib\\site-packages (from uvicorn->gradio) (7.1.2)\n",
      "Requirement already satisfied: h11>=0.8 in c:\\users\\akshay\\anaconda3\\lib\\site-packages (from uvicorn->gradio) (0.14.0)\n",
      "Requirement already satisfied: six in c:\\users\\akshay\\anaconda3\\lib\\site-packages (from cycler>=0.10->matplotlib->gradio) (1.16.0)\n",
      "Requirement already satisfied: anyio<5.0,>=3.0 in c:\\users\\akshay\\anaconda3\\lib\\site-packages (from httpcore<0.18.0,>=0.15.0->httpx->gradio) (3.6.2)\n",
      "Requirement already satisfied: setuptools in c:\\users\\akshay\\anaconda3\\lib\\site-packages (from jsonschema>=3.0->altair>=4.2.0->gradio) (67.6.0)\n",
      "Requirement already satisfied: pyrsistent>=0.14.0 in c:\\users\\akshay\\anaconda3\\lib\\site-packages (from jsonschema>=3.0->altair>=4.2.0->gradio) (0.17.3)\n",
      "Requirement already satisfied: uc-micro-py in c:\\users\\akshay\\anaconda3\\lib\\site-packages (from linkify-it-py<3,>=1->markdown-it-py[linkify]>=2.0.0->gradio) (1.0.1)\n"
     ]
    }
   ],
   "source": [
    "pip install gradio"
   ]
  },
  {
   "cell_type": "code",
   "execution_count": 9,
   "id": "59784fa9",
   "metadata": {},
   "outputs": [
    {
     "name": "stdout",
     "output_type": "stream",
     "text": [
      "Looking for images in 'img'\n",
      "100 bottleneck files created.\n",
      "2023-04-18 23:16:41.279103: Step 0: Train accuracy = 75.2%\n",
      "2023-04-18 23:16:41.279103: Step 0: Cross entropy = 0.671839\n",
      "2023-04-18 23:16:43.319417: Step 0: Validation accuracy = 75.7%\n",
      "2023-04-18 23:16:44.304638: Step 10: Train accuracy = 75.2%\n",
      "2023-04-18 23:16:44.304638: Step 10: Cross entropy = 0.571615\n",
      "2023-04-18 23:16:44.479902: Step 10: Validation accuracy = 74.9%\n",
      "2023-04-18 23:16:45.642185: Step 20: Train accuracy = 75.2%\n",
      "2023-04-18 23:16:45.642185: Step 20: Cross entropy = 0.546629\n",
      "2023-04-18 23:16:45.724297: Step 20: Validation accuracy = 74.5%\n",
      "2023-04-18 23:16:46.617029: Step 30: Train accuracy = 74.7%\n",
      "2023-04-18 23:16:46.617029: Step 30: Cross entropy = 0.540641\n",
      "2023-04-18 23:16:46.708987: Step 30: Validation accuracy = 75.5%\n",
      "2023-04-18 23:16:47.993743: Step 40: Train accuracy = 75.8%"
     ]
    },
    {
     "name": "stderr",
     "output_type": "stream",
     "text": [
      "WARNING:tensorflow:From C:\\Users\\Akshay\\anaconda3\\lib\\site-packages\\tensorflow\\python\\compat\\v2_compat.py:107: disable_resource_variables (from tensorflow.python.ops.variable_scope) is deprecated and will be removed in a future version.\n",
      "Instructions for updating:\n",
      "non-resource variables are not supported in the long term\n",
      "2023-04-18 23:16:35.619805: I tensorflow/core/platform/cpu_feature_guard.cc:193] This TensorFlow binary is optimized with oneAPI Deep Neural Network Library (oneDNN) to use the following CPU instructions in performance-critical operations:  AVX AVX2\n",
      "To enable them in other operations, rebuild TensorFlow with the appropriate compiler flags.\n",
      "WARNING:tensorflow:From retrain.py:247: FastGFile.__init__ (from tensorflow.python.platform.gfile) is deprecated and will be removed in a future version.\n",
      "Instructions for updating:\n",
      "Use tf.gfile.GFile.\n",
      "W0418 23:16:35.620878 17040 deprecation.py:350] From retrain.py:247: FastGFile.__init__ (from tensorflow.python.platform.gfile) is deprecated and will be removed in a future version.\n",
      "Instructions for updating:\n",
      "Use tf.gfile.GFile.\n",
      "2023-04-18 23:16:35.818023: W tensorflow/core/framework/op_def_util.cc:371] Op BatchNormWithGlobalNormalization is deprecated. It will cease to work in GraphDef version 9. Use tf.nn.batch_normalization().\n",
      "INFO:tensorflow:Summary name cross entropy is illegal; using cross_entropy instead.\n",
      "I0418 23:16:36.106547 17040 summary_op_util.py:61] Summary name cross entropy is illegal; using cross_entropy instead.\n",
      "WARNING:tensorflow:From C:\\Users\\Akshay\\anaconda3\\lib\\site-packages\\tensorflow\\python\\util\\tf_should_use.py:243: initialize_all_variables (from tensorflow.python.ops.variables) is deprecated and will be removed after 2017-03-02.\n",
      "Instructions for updating:\n",
      "Use `tf.global_variables_initializer` instead.\n",
      "W0418 23:16:37.063678 17040 deprecation.py:350] From C:\\Users\\Akshay\\anaconda3\\lib\\site-packages\\tensorflow\\python\\util\\tf_should_use.py:243: initialize_all_variables (from tensorflow.python.ops.variables) is deprecated and will be removed after 2017-03-02.\n",
      "Instructions for updating:\n",
      "Use `tf.global_variables_initializer` instead.\n",
      "2023-04-18 23:16:37.141929: I tensorflow/compiler/mlir/mlir_graph_optimization_pass.cc:357] MLIR V1 optimization pass is not enabled\n",
      "WARNING:tensorflow:From retrain.py:779: convert_variables_to_constants (from tensorflow.python.framework.graph_util_impl) is deprecated and will be removed in a future version.\n",
      "Instructions for updating:\n",
      "This API was designed for TensorFlow v1. See https://www.tensorflow.org/guide/migrate for instructions on how to migrate your code to TensorFlow v2.\n",
      "W0418 23:17:38.809360 17040 deprecation.py:350] From retrain.py:779: convert_variables_to_constants (from tensorflow.python.framework.graph_util_impl) is deprecated and will be removed in a future version.\n",
      "Instructions for updating:\n",
      "This API was designed for TensorFlow v1. See https://www.tensorflow.org/guide/migrate for instructions on how to migrate your code to TensorFlow v2.\n",
      "WARNING:tensorflow:From C:\\Users\\Akshay\\anaconda3\\lib\\site-packages\\tensorflow\\python\\framework\\convert_to_constants.py:943: extract_sub_graph (from tensorflow.python.framework.graph_util_impl) is deprecated and will be removed in a future version.\n",
      "Instructions for updating:\n",
      "This API was designed for TensorFlow v1. See https://www.tensorflow.org/guide/migrate for instructions on how to migrate your code to TensorFlow v2.\n",
      "W0418 23:17:38.810314 17040 deprecation.py:350] From C:\\Users\\Akshay\\anaconda3\\lib\\site-packages\\tensorflow\\python\\framework\\convert_to_constants.py:943: extract_sub_graph (from tensorflow.python.framework.graph_util_impl) is deprecated and will be removed in a future version.\n",
      "Instructions for updating:\n",
      "This API was designed for TensorFlow v1. See https://www.tensorflow.org/guide/migrate for instructions on how to migrate your code to TensorFlow v2.\n"
     ]
    },
    {
     "name": "stdout",
     "output_type": "stream",
     "text": [
      "\n",
      "2023-04-18 23:16:47.993743: Step 40: Cross entropy = 0.520325\n",
      "2023-04-18 23:16:48.181004: Step 40: Validation accuracy = 75.5%\n",
      "2023-04-18 23:16:49.311973: Step 50: Train accuracy = 76.5%\n",
      "2023-04-18 23:16:49.311973: Step 50: Cross entropy = 0.511854\n",
      "2023-04-18 23:16:49.422628: Step 50: Validation accuracy = 75.6%\n",
      "2023-04-18 23:16:50.582448: Step 60: Train accuracy = 75.0%\n",
      "2023-04-18 23:16:50.582448: Step 60: Cross entropy = 0.526278\n",
      "2023-04-18 23:16:50.692200: Step 60: Validation accuracy = 74.7%\n",
      "2023-04-18 23:16:51.563703: Step 70: Train accuracy = 75.2%\n",
      "2023-04-18 23:16:51.563703: Step 70: Cross entropy = 0.518866\n",
      "2023-04-18 23:16:51.658644: Step 70: Validation accuracy = 74.3%\n",
      "2023-04-18 23:16:52.464715: Step 80: Train accuracy = 75.7%\n",
      "2023-04-18 23:16:52.464715: Step 80: Cross entropy = 0.497453\n",
      "2023-04-18 23:16:52.542931: Step 80: Validation accuracy = 75.3%\n",
      "2023-04-18 23:16:53.463369: Step 90: Train accuracy = 76.1%\n",
      "2023-04-18 23:16:53.463369: Step 90: Cross entropy = 0.502991\n",
      "2023-04-18 23:16:53.539938: Step 90: Validation accuracy = 75.2%\n",
      "2023-04-18 23:16:54.471232: Step 100: Train accuracy = 76.7%\n",
      "2023-04-18 23:16:54.472556: Step 100: Cross entropy = 0.489627\n",
      "2023-04-18 23:16:54.564292: Step 100: Validation accuracy = 75.0%\n",
      "2023-04-18 23:16:55.428259: Step 110: Train accuracy = 75.2%\n",
      "2023-04-18 23:16:55.428259: Step 110: Cross entropy = 0.500719\n",
      "2023-04-18 23:16:55.504396: Step 110: Validation accuracy = 74.8%\n",
      "2023-04-18 23:16:56.364677: Step 120: Train accuracy = 76.3%\n",
      "2023-04-18 23:16:56.364677: Step 120: Cross entropy = 0.488262\n",
      "2023-04-18 23:16:56.443018: Step 120: Validation accuracy = 75.4%\n",
      "2023-04-18 23:16:57.291948: Step 130: Train accuracy = 76.6%\n",
      "2023-04-18 23:16:57.291948: Step 130: Cross entropy = 0.473823\n",
      "2023-04-18 23:16:57.376985: Step 130: Validation accuracy = 75.0%\n",
      "2023-04-18 23:16:58.300139: Step 140: Train accuracy = 76.2%\n",
      "2023-04-18 23:16:58.300139: Step 140: Cross entropy = 0.473918\n",
      "2023-04-18 23:16:58.381005: Step 140: Validation accuracy = 75.8%\n",
      "2023-04-18 23:16:59.225814: Step 150: Train accuracy = 77.3%\n",
      "2023-04-18 23:16:59.225814: Step 150: Cross entropy = 0.468346\n",
      "2023-04-18 23:16:59.313555: Step 150: Validation accuracy = 75.2%\n",
      "2023-04-18 23:17:00.153747: Step 160: Train accuracy = 77.3%\n",
      "2023-04-18 23:17:00.153747: Step 160: Cross entropy = 0.476080\n",
      "2023-04-18 23:17:00.230991: Step 160: Validation accuracy = 74.9%\n",
      "2023-04-18 23:17:01.080880: Step 170: Train accuracy = 76.0%\n",
      "2023-04-18 23:17:01.080880: Step 170: Cross entropy = 0.480435\n",
      "2023-04-18 23:17:01.168469: Step 170: Validation accuracy = 75.5%\n",
      "2023-04-18 23:17:02.142880: Step 180: Train accuracy = 76.5%\n",
      "2023-04-18 23:17:02.142880: Step 180: Cross entropy = 0.470397\n",
      "2023-04-18 23:17:02.222443: Step 180: Validation accuracy = 75.8%\n",
      "2023-04-18 23:17:03.334416: Step 190: Train accuracy = 78.2%\n",
      "2023-04-18 23:17:03.334416: Step 190: Cross entropy = 0.454830\n",
      "2023-04-18 23:17:03.438255: Step 190: Validation accuracy = 75.2%\n",
      "2023-04-18 23:17:04.331368: Step 200: Train accuracy = 77.4%\n",
      "2023-04-18 23:17:04.331368: Step 200: Cross entropy = 0.464262\n",
      "2023-04-18 23:17:04.411634: Step 200: Validation accuracy = 73.8%\n",
      "2023-04-18 23:17:05.272043: Step 210: Train accuracy = 77.2%\n",
      "2023-04-18 23:17:05.272043: Step 210: Cross entropy = 0.465295\n",
      "2023-04-18 23:17:05.343992: Step 210: Validation accuracy = 75.7%\n",
      "2023-04-18 23:17:06.231265: Step 220: Train accuracy = 77.4%\n",
      "2023-04-18 23:17:06.231265: Step 220: Cross entropy = 0.456997\n",
      "2023-04-18 23:17:06.312642: Step 220: Validation accuracy = 75.1%\n",
      "2023-04-18 23:17:07.139889: Step 230: Train accuracy = 77.5%\n",
      "2023-04-18 23:17:07.139889: Step 230: Cross entropy = 0.448772\n",
      "2023-04-18 23:17:07.210284: Step 230: Validation accuracy = 74.1%\n",
      "2023-04-18 23:17:08.329149: Step 240: Train accuracy = 77.9%\n",
      "2023-04-18 23:17:08.329149: Step 240: Cross entropy = 0.440274\n",
      "2023-04-18 23:17:08.407598: Step 240: Validation accuracy = 75.0%\n",
      "2023-04-18 23:17:09.736831: Step 250: Train accuracy = 78.1%\n",
      "2023-04-18 23:17:09.736831: Step 250: Cross entropy = 0.432113\n",
      "2023-04-18 23:17:09.850961: Step 250: Validation accuracy = 75.1%\n",
      "2023-04-18 23:17:10.910074: Step 260: Train accuracy = 77.8%\n",
      "2023-04-18 23:17:10.910074: Step 260: Cross entropy = 0.444944\n",
      "2023-04-18 23:17:11.004541: Step 260: Validation accuracy = 74.5%\n",
      "2023-04-18 23:17:12.083013: Step 270: Train accuracy = 78.0%\n",
      "2023-04-18 23:17:12.083013: Step 270: Cross entropy = 0.447903\n",
      "2023-04-18 23:17:12.165951: Step 270: Validation accuracy = 73.4%\n",
      "2023-04-18 23:17:13.040329: Step 280: Train accuracy = 77.6%\n",
      "2023-04-18 23:17:13.040329: Step 280: Cross entropy = 0.440215\n",
      "2023-04-18 23:17:13.129645: Step 280: Validation accuracy = 73.5%\n",
      "2023-04-18 23:17:13.988204: Step 290: Train accuracy = 77.9%\n",
      "2023-04-18 23:17:13.988204: Step 290: Cross entropy = 0.439606\n",
      "2023-04-18 23:17:14.083891: Step 290: Validation accuracy = 74.0%\n",
      "2023-04-18 23:17:14.958739: Step 300: Train accuracy = 78.5%\n",
      "2023-04-18 23:17:14.958739: Step 300: Cross entropy = 0.429468\n",
      "2023-04-18 23:17:15.040615: Step 300: Validation accuracy = 73.4%\n",
      "2023-04-18 23:17:15.891324: Step 310: Train accuracy = 78.8%\n",
      "2023-04-18 23:17:15.891324: Step 310: Cross entropy = 0.427363\n",
      "2023-04-18 23:17:15.978777: Step 310: Validation accuracy = 74.3%\n",
      "2023-04-18 23:17:16.843210: Step 320: Train accuracy = 80.3%\n",
      "2023-04-18 23:17:16.844213: Step 320: Cross entropy = 0.408591\n",
      "2023-04-18 23:17:16.923739: Step 320: Validation accuracy = 74.1%\n",
      "2023-04-18 23:17:17.901620: Step 330: Train accuracy = 79.2%\n",
      "2023-04-18 23:17:17.901620: Step 330: Cross entropy = 0.420541\n",
      "2023-04-18 23:17:18.025260: Step 330: Validation accuracy = 73.6%\n",
      "2023-04-18 23:17:19.007567: Step 340: Train accuracy = 77.9%\n",
      "2023-04-18 23:17:19.007567: Step 340: Cross entropy = 0.421553\n",
      "2023-04-18 23:17:19.089702: Step 340: Validation accuracy = 73.2%\n",
      "2023-04-18 23:17:20.099947: Step 350: Train accuracy = 78.9%\n",
      "2023-04-18 23:17:20.099947: Step 350: Cross entropy = 0.418451\n",
      "2023-04-18 23:17:20.181171: Step 350: Validation accuracy = 73.1%\n",
      "2023-04-18 23:17:21.191037: Step 360: Train accuracy = 79.4%\n",
      "2023-04-18 23:17:21.191037: Step 360: Cross entropy = 0.410825\n",
      "2023-04-18 23:17:21.307780: Step 360: Validation accuracy = 73.9%\n",
      "2023-04-18 23:17:22.369711: Step 370: Train accuracy = 79.8%\n",
      "2023-04-18 23:17:22.369711: Step 370: Cross entropy = 0.406512\n",
      "2023-04-18 23:17:22.484171: Step 370: Validation accuracy = 72.1%\n",
      "2023-04-18 23:17:23.568095: Step 380: Train accuracy = 80.2%\n",
      "2023-04-18 23:17:23.568095: Step 380: Cross entropy = 0.404257\n",
      "2023-04-18 23:17:23.648320: Step 380: Validation accuracy = 73.6%\n",
      "2023-04-18 23:17:24.596488: Step 390: Train accuracy = 80.3%\n",
      "2023-04-18 23:17:24.596488: Step 390: Cross entropy = 0.396897\n",
      "2023-04-18 23:17:24.706308: Step 390: Validation accuracy = 72.6%\n",
      "2023-04-18 23:17:25.579038: Step 400: Train accuracy = 81.1%\n",
      "2023-04-18 23:17:25.579038: Step 400: Cross entropy = 0.401142\n",
      "2023-04-18 23:17:25.663798: Step 400: Validation accuracy = 74.9%\n",
      "2023-04-18 23:17:26.611943: Step 410: Train accuracy = 80.6%\n",
      "2023-04-18 23:17:26.611943: Step 410: Cross entropy = 0.393427\n",
      "2023-04-18 23:17:26.713859: Step 410: Validation accuracy = 74.8%\n",
      "2023-04-18 23:17:27.670348: Step 420: Train accuracy = 82.9%\n",
      "2023-04-18 23:17:27.670348: Step 420: Cross entropy = 0.389737\n",
      "2023-04-18 23:17:27.770218: Step 420: Validation accuracy = 76.0%\n",
      "2023-04-18 23:17:29.045907: Step 430: Train accuracy = 82.9%\n",
      "2023-04-18 23:17:29.045907: Step 430: Cross entropy = 0.373724\n",
      "2023-04-18 23:17:29.170327: Step 430: Validation accuracy = 75.9%\n",
      "2023-04-18 23:17:30.094368: Step 440: Train accuracy = 81.0%\n",
      "2023-04-18 23:17:30.094368: Step 440: Cross entropy = 0.399799\n",
      "2023-04-18 23:17:30.180576: Step 440: Validation accuracy = 74.9%\n",
      "2023-04-18 23:17:31.221050: Step 450: Train accuracy = 82.9%\n",
      "2023-04-18 23:17:31.222058: Step 450: Cross entropy = 0.384504\n",
      "2023-04-18 23:17:31.302709: Step 450: Validation accuracy = 73.8%\n",
      "2023-04-18 23:17:32.253105: Step 460: Train accuracy = 83.7%\n",
      "2023-04-18 23:17:32.253105: Step 460: Cross entropy = 0.371538\n",
      "2023-04-18 23:17:32.341113: Step 460: Validation accuracy = 73.7%\n",
      "2023-04-18 23:17:33.301053: Step 470: Train accuracy = 83.6%\n",
      "2023-04-18 23:17:33.301053: Step 470: Cross entropy = 0.369696\n",
      "2023-04-18 23:17:33.386592: Step 470: Validation accuracy = 72.1%\n",
      "2023-04-18 23:17:34.263969: Step 480: Train accuracy = 81.8%\n",
      "2023-04-18 23:17:34.263969: Step 480: Cross entropy = 0.389608\n",
      "2023-04-18 23:17:34.344839: Step 480: Validation accuracy = 72.1%\n",
      "2023-04-18 23:17:35.214954: Step 490: Train accuracy = 81.8%\n",
      "2023-04-18 23:17:35.214954: Step 490: Cross entropy = 0.389834\n",
      "2023-04-18 23:17:35.294986: Step 490: Validation accuracy = 73.8%\n",
      "2023-04-18 23:17:36.076273: Step 499: Train accuracy = 83.2%\n",
      "2023-04-18 23:17:36.076273: Step 499: Cross entropy = 0.373259\n",
      "2023-04-18 23:17:36.158268: Step 499: Validation accuracy = 74.6%\n",
      "Final test accuracy = 71.0%\n"
     ]
    }
   ],
   "source": [
    "!python retrain.py  --bottleneck_dir=bottlenecks --model_dir=model_dir --how_many_training_steps 500  --output_graph=retrained_graph.pb --output_labels=retrained_labels.txt --summaries_dir=retrain_logs --image_dir=image_labels_dir"
   ]
  },
  {
   "cell_type": "code",
   "execution_count": 19,
   "id": "443f9c4c",
   "metadata": {},
   "outputs": [
    {
     "name": "stdout",
     "output_type": "stream",
     "text": [
      "Collecting tabulate\n",
      "  Using cached tabulate-0.9.0-py3-none-any.whl (35 kB)\n",
      "Installing collected packages: tabulate\n",
      "Note: you may need to restart the kernel to use updated packages.Successfully installed tabulate-0.9.0\n"
     ]
    },
    {
     "name": "stderr",
     "output_type": "stream",
     "text": [
      "\n",
      "[notice] A new release of pip is available: 23.0.1 -> 23.1\n",
      "[notice] To update, run: python.exe -m pip install --upgrade pip\n"
     ]
    },
    {
     "name": "stdout",
     "output_type": "stream",
     "text": [
      "\n"
     ]
    }
   ],
   "source": [
    "pip install tabulate"
   ]
  },
  {
   "cell_type": "code",
   "execution_count": 1,
   "id": "876e075f",
   "metadata": {
    "scrolled": true
   },
   "outputs": [
    {
     "name": "stdout",
     "output_type": "stream",
     "text": [
      "WARNING:tensorflow:From C:\\Users\\Akshay\\anaconda3\\lib\\site-packages\\tensorflow\\python\\compat\\v2_compat.py:107: disable_resource_variables (from tensorflow.python.ops.variable_scope) is deprecated and will be removed in a future version.\n",
      "Instructions for updating:\n",
      "non-resource variables are not supported in the long term\n",
      "Running on local URL:  http://127.0.0.1:7860\n",
      "\n",
      "To create a public link, set `share=True` in `launch()`.\n"
     ]
    },
    {
     "data": {
      "text/html": [
       "<div><iframe src=\"http://127.0.0.1:7860/\" width=\"100%\" height=\"500\" allow=\"autoplay; camera; microphone; clipboard-read; clipboard-write;\" frameborder=\"0\" allowfullscreen></iframe></div>"
      ],
      "text/plain": [
       "<IPython.core.display.HTML object>"
      ]
     },
     "metadata": {},
     "output_type": "display_data"
    },
    {
     "data": {
      "text/plain": []
     },
     "execution_count": 1,
     "metadata": {},
     "output_type": "execute_result"
    },
    {
     "name": "stdout",
     "output_type": "stream",
     "text": [
      "WARNING:tensorflow:From <ipython-input-1-530c4d4c2b6f>:9: FastGFile.__init__ (from tensorflow.python.platform.gfile) is deprecated and will be removed in a future version.\n",
      "Instructions for updating:\n",
      "Use tf.gfile.GFile.\n"
     ]
    }
   ],
   "source": [
    "import tensorflow.compat.v1 as tf\n",
    "tf.disable_v2_behavior()\n",
    "import sys \n",
    "import gradio as gr\n",
    "def image_classifier(inp):\n",
    "    pred=[\"EGFR\",\"KRAS\",\"TP53\",\"LRP1B\"]\n",
    "    prog=[\"STK11\",\"FAT1\",\"SETBP1\",\"FAT4\",\"KEAP1\"]\n",
    "    st=\"\"\n",
    "    image_data = tf.gfile.FastGFile(inp, 'rb').read()\n",
    "    # Loads label file, strips off carriage return\n",
    "    label_lines = [line.rstrip() for line in tf.gfile.GFile(\"labels.txt\")]\n",
    "\n",
    "        # Unpersists graph from file\n",
    "    with tf.gfile.FastGFile(\"retrained_graph.pb\", 'rb') as f:\n",
    "        graph_def = tf.GraphDef()\n",
    "        graph_def.ParseFromString(f.read())\n",
    "        _ = tf.import_graph_def(graph_def, name='')\n",
    "\n",
    "    with tf.Session() as sess:\n",
    "        # Feed the image_data as input to the graph and get first prediction\n",
    "        softmax_tensor = sess.graph.get_tensor_by_name('final_result:0')\n",
    "    \n",
    "        predictions = sess.run(softmax_tensor, \\\n",
    "             {'DecodeJpeg/contents:0': image_data})\n",
    "    \n",
    "            # Sort to show labels of first prediction in order of confidence\n",
    "        top_k = predictions[0].argsort()[-len(predictions[0]):][::-1]\n",
    "        for node_id in top_k:\n",
    "            human_string = label_lines[node_id]\n",
    "            score = predictions[0][node_id]\n",
    "            if score >=0.30:\n",
    "                if human_string in pred:\n",
    "                    st+=human_string+\"      \"+str(score)+\"        \"+\"Predictive Biomarker\"+\"\\n\"\n",
    "                else:\n",
    "                    st+=human_string+\"      \"+str(score)+\"        \"+\"Prognostic Biomarker\"+\"\\n\"\n",
    "        return st\n",
    "    \n",
    "demo = gr.Interface(fn=image_classifier, inputs=gr.Textbox(), outputs=\"text\")\n",
    "demo.launch()\n",
    "\n"
   ]
  },
  {
   "cell_type": "code",
   "execution_count": null,
   "id": "9aa7a3b4",
   "metadata": {},
   "outputs": [],
   "source": []
  }
 ],
 "metadata": {
  "kernelspec": {
   "display_name": "Python 3",
   "language": "python",
   "name": "python3"
  },
  "language_info": {
   "codemirror_mode": {
    "name": "ipython",
    "version": 3
   },
   "file_extension": ".py",
   "mimetype": "text/x-python",
   "name": "python",
   "nbconvert_exporter": "python",
   "pygments_lexer": "ipython3",
   "version": "3.8.8"
  }
 },
 "nbformat": 4,
 "nbformat_minor": 5
}
